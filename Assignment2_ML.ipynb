{
 "cells": [
  {
   "attachments": {},
   "cell_type": "markdown",
   "metadata": {},
   "source": [
    "### Anna Gumenyuk (s3893464), MIK Claessens (S4370244), Ekin Fergan (s3985113)"
   ]
  },
  {
   "attachments": {},
   "cell_type": "markdown",
   "metadata": {},
   "source": [
    "## Question 1"
   ]
  },
  {
   "attachments": {},
   "cell_type": "markdown",
   "metadata": {},
   "source": [
    "In Figure (a), both the validation loss and the training loss are high and don't decrease with increasing number of iterations. This is an example of underfitting, where the algorithm used does not fit the data well, resulting in high errors. Hence, further training is needed to decrease the loss. This can be achieved, by e.g. increasing the data size or changing the algorithm. \n",
    "\n",
    "In Figure (b), the model performs well on the training data since the error decreases with increasing training iterations. However, the model cannot generalize well on new data. This can be observed from the validation loss where it initially decreases but starts to increase later on. The minimum point represents the start of overfitting.\n",
    "\n",
    "In Figure (c), it does not seem to be like underfitting seeing that training loss decreases as the number of epochs increases. At the same time, it does not appear to be overfitting either as it was in Figure (b). If it were overfitting, then the validation loss would rise. However, in Figure (c), the validation loss fluctuates. As such, we conclude that this is neither underfitting nor overfitting. "
   ]
  },
  {
   "attachments": {},
   "cell_type": "markdown",
   "metadata": {},
   "source": [
    "## Question 2"
   ]
  },
  {
   "attachments": {},
   "cell_type": "markdown",
   "metadata": {},
   "source": [
    "While training a machine learning model, it is necessary to split the dataset. If we train our model on the entire dataset, then we cannot accurately evaluate the performance of our model/algorithm. If we test the model on the same data we used for training, then we test the memorization of the data rather than the generalization of the model.  Hence, an advantage of splitting is that overfitting can be detected or prevented. If we split the data, we can use hyperparameter tuning to find the model that has the best performance. The main disadvantage of splitting data is the reduction of training data. This can be a problem when data is hard to get and the dataset is small in size. As a result, training a reliable model can be difficult with such a small amount of training data."
   ]
  },
  {
   "attachments": {},
   "cell_type": "markdown",
   "metadata": {},
   "source": [
    "## Question 3"
   ]
  },
  {
   "cell_type": "code",
   "execution_count": 183,
   "metadata": {},
   "outputs": [],
   "source": [
    "import matplotlib.pyplot as plt\n",
    "from sklearn.datasets import load_breast_cancer\n",
    "from sklearn.model_selection import train_test_split\n",
    "from sklearn import preprocessing\n",
    "from sklearn.metrics import accuracy_score, precision_score, recall_score, balanced_accuracy_score, f1_score\n",
    "import pandas as pd\n",
    "from sklearn.svm import SVC\n",
    "from sklearn.tree import DecisionTreeClassifier\n",
    "from sklearn.ensemble import RandomForestClassifier"
   ]
  },
  {
   "cell_type": "code",
   "execution_count": 184,
   "metadata": {},
   "outputs": [
    {
     "name": "stdout",
     "output_type": "stream",
     "text": [
      "['malignant' 'benign']\n",
      "357\n",
      "   mean radius  mean texture  mean perimeter  mean area  mean smoothness  \\\n",
      "0        17.99         10.38          122.80     1001.0          0.11840   \n",
      "1        20.57         17.77          132.90     1326.0          0.08474   \n",
      "2        19.69         21.25          130.00     1203.0          0.10960   \n",
      "3        11.42         20.38           77.58      386.1          0.14250   \n",
      "4        20.29         14.34          135.10     1297.0          0.10030   \n",
      "\n",
      "   mean compactness  mean concavity  mean concave points  mean symmetry  \\\n",
      "0           0.27760          0.3001              0.14710         0.2419   \n",
      "1           0.07864          0.0869              0.07017         0.1812   \n",
      "2           0.15990          0.1974              0.12790         0.2069   \n",
      "3           0.28390          0.2414              0.10520         0.2597   \n",
      "4           0.13280          0.1980              0.10430         0.1809   \n",
      "\n",
      "   mean fractal dimension  ...  worst radius  worst texture  worst perimeter  \\\n",
      "0                 0.07871  ...         25.38          17.33           184.60   \n",
      "1                 0.05667  ...         24.99          23.41           158.80   \n",
      "2                 0.05999  ...         23.57          25.53           152.50   \n",
      "3                 0.09744  ...         14.91          26.50            98.87   \n",
      "4                 0.05883  ...         22.54          16.67           152.20   \n",
      "\n",
      "   worst area  worst smoothness  worst compactness  worst concavity  \\\n",
      "0      2019.0            0.1622             0.6656           0.7119   \n",
      "1      1956.0            0.1238             0.1866           0.2416   \n",
      "2      1709.0            0.1444             0.4245           0.4504   \n",
      "3       567.7            0.2098             0.8663           0.6869   \n",
      "4      1575.0            0.1374             0.2050           0.4000   \n",
      "\n",
      "   worst concave points  worst symmetry  worst fractal dimension  \n",
      "0                0.2654          0.4601                  0.11890  \n",
      "1                0.1860          0.2750                  0.08902  \n",
      "2                0.2430          0.3613                  0.08758  \n",
      "3                0.2575          0.6638                  0.17300  \n",
      "4                0.1625          0.2364                  0.07678  \n",
      "\n",
      "[5 rows x 30 columns]\n"
     ]
    }
   ],
   "source": [
    "# Looking at the data and target variables\n",
    "data = load_breast_cancer(as_frame = True)\n",
    "print(data['target_names'])\n",
    "print(data['target'].sum())\n",
    "print(data['data'].head())\n"
   ]
  },
  {
   "cell_type": "code",
   "execution_count": 185,
   "metadata": {},
   "outputs": [],
   "source": [
    "# Separating the data into predicting variables and target variables. Normalizing the predicting variables. \n",
    "X, y = load_breast_cancer(return_X_y=True)\n",
    "X = preprocessing.normalize(X)\n",
    "\n",
    "# Splitting the data into trainign and testing sets.\n",
    "X_tr, X_te, y_tr, y_te = train_test_split(X, y, train_size=0.8, test_size=0.2)"
   ]
  },
  {
   "cell_type": "code",
   "execution_count": 186,
   "metadata": {},
   "outputs": [],
   "source": [
    "# These are hyper parameters that will be used for tuning of the models\n",
    "from sklearn.model_selection import GridSearchCV\n",
    "\n",
    "SVC_tuned_parameters = [\n",
    "    {\"kernel\": [\"rbf\"], \"gamma\": [0.1, 1, 10, 100], \"C\": [1, 10, 100, 1000]},\n",
    "    {\"kernel\": [\"linear\"], \"gamma\": [0.1, 1, 10, 100], \"C\": [1, 10, 100, 1000]},\n",
    "    {\"kernel\": [\"poly\"], \"gamma\": [0.1, 1, 10, 100], \"C\": [1, 10, 100, 1000], \"degree\": [2, 3, 4]},\n",
    "    {\"kernel\": [\"sigmoid\"], \"gamma\": [0.1, 1, 10, 100], \"C\": [1, 10, 100, 1000]}\n",
    "]\n",
    "\n",
    "DTC_tuned_parameters = {\n",
    "    'criterion':['gini','entropy'], \n",
    "    'max_leaf_nodes': list(range(2, 50)), \n",
    "    'min_samples_split': [2, 3, 4]\n",
    "}\n",
    "\n",
    "RFC_tuned_parameters = {\n",
    "    'n_estimators': [200, 500],\n",
    "    'max_features': ['sqrt', 'log2'],\n",
    "    'max_depth' : [4,5,6,7],\n",
    "    'criterion' :['gini', 'entropy']\n",
    "}\n",
    "\n",
    "SVC_grid = GridSearchCV(SVC(), SVC_tuned_parameters, refit=True)\n",
    "DTC_grid = GridSearchCV(DecisionTreeClassifier(), DTC_tuned_parameters, refit=True)\n",
    "RFC_grid = GridSearchCV(RandomForestClassifier(), RFC_tuned_parameters, refit=True)"
   ]
  },
  {
   "cell_type": "code",
   "execution_count": 187,
   "metadata": {},
   "outputs": [],
   "source": [
    "# Initializing different models that will be used for further training and evaluating. \n",
    "models = []\n",
    "\n",
    "models.append([SVC_grid, \"SVC\"])\n",
    "models.append([DTC_grid, \"Decision Tree\"])\n",
    "models.append([RFC_grid, \"Random Forest\"])\n",
    "\n",
    "# Initializing the array of train sizes that will be used later in the training. \n",
    "train_sizes = [0.1, 0.3, 0.5, 1.0]"
   ]
  },
  {
   "cell_type": "code",
   "execution_count": 188,
   "metadata": {},
   "outputs": [],
   "source": [
    "# A function that is used for splitting the training data based on the indicated train size.\n",
    "def split_train(size):\n",
    "    x_tr_ret, discarded_x, y_tr_ret, discarded_y = train_test_split(X_tr, y_tr, train_size=size)\n",
    "    return x_tr_ret, y_tr_ret"
   ]
  },
  {
   "cell_type": "code",
   "execution_count": 189,
   "metadata": {},
   "outputs": [],
   "source": [
    "# A function that is used to train a specified model and record the accuracy, precision, and recall statistics.\n",
    "def train_test(model, train_size):\n",
    "    if train_size < 1:\n",
    "        x_reduced, y_reduced = split_train(train_size)\n",
    "        model.fit(x_reduced, y_reduced)\n",
    "    elif train_size == 1:\n",
    "        model.fit(X_tr, y_tr)\n",
    "    return model"
   ]
  },
  {
   "cell_type": "code",
   "execution_count": 190,
   "metadata": {},
   "outputs": [],
   "source": [
    "# A function that is used to test the model and store the performance statistics\n",
    "data = []\n",
    "columns = [\"Algorithm\", \"Train Size\", \"Accuracy\", \"Balanced Accuracy\", \"Precision\", \"Recall\", \"F1-Score\"]\n",
    "\n",
    "def test(model, name, train_size):\n",
    "    predictions = model.predict(X_te)\n",
    "    accuracy = accuracy_score(predictions, y_te)\n",
    "    precision = precision_score(predictions, y_te)\n",
    "    recall = recall_score(predictions, y_te)\n",
    "    balanced_accuracy = balanced_accuracy_score(predictions, y_te)\n",
    "    f1score = f1_score(predictions, y_te)\n",
    "    data.append([name, train_size, accuracy, balanced_accuracy, precision, recall, f1score])"
   ]
  },
  {
   "cell_type": "code",
   "execution_count": 191,
   "metadata": {},
   "outputs": [],
   "source": [
    "# The main loop where training/tuning of the models occurs. \n",
    "best_models_per_trainsize = []\n",
    "\n",
    "def tuning_training():\n",
    "    for model in models:\n",
    "        for train_size in train_sizes:\n",
    "            best_model = train_test(model[0], train_size)\n",
    "            best_models_per_trainsize.append([train_size, best_model, model[1]])\n",
    "            print (\"For train size: \" + str(train_size) + \" the best model is \" + str(best_model.best_estimator_))\n",
    "            test(best_model, model[1], train_size)\n"
   ]
  },
  {
   "cell_type": "code",
   "execution_count": 192,
   "metadata": {},
   "outputs": [
    {
     "name": "stdout",
     "output_type": "stream",
     "text": [
      "For train size: 0.1 the best model is SVC(C=100, gamma=100)\n",
      "For train size: 0.3 the best model is SVC(C=100, gamma=10)\n",
      "For train size: 0.5 the best model is SVC(C=100, degree=2, gamma=100, kernel='poly')\n",
      "For train size: 1.0 the best model is SVC(C=1000, gamma=10, kernel='poly')\n",
      "For train size: 0.1 the best model is DecisionTreeClassifier(max_leaf_nodes=2)\n",
      "For train size: 0.3 the best model is DecisionTreeClassifier(criterion='entropy', max_leaf_nodes=5)\n",
      "For train size: 0.5 the best model is DecisionTreeClassifier(max_leaf_nodes=5)\n",
      "For train size: 1.0 the best model is DecisionTreeClassifier(max_leaf_nodes=15)\n",
      "For train size: 0.1 the best model is RandomForestClassifier(max_depth=5, max_features='log2', n_estimators=500)\n",
      "For train size: 0.3 the best model is RandomForestClassifier(max_depth=5, n_estimators=500)\n",
      "For train size: 0.5 the best model is RandomForestClassifier(max_depth=7, n_estimators=500)\n",
      "For train size: 1.0 the best model is RandomForestClassifier(criterion='entropy', max_depth=5, max_features='log2',\n",
      "                       n_estimators=500)\n"
     ]
    }
   ],
   "source": [
    "tuning_training()"
   ]
  },
  {
   "cell_type": "code",
   "execution_count": 193,
   "metadata": {},
   "outputs": [
    {
     "data": {
      "text/html": [
       "<div>\n",
       "<style scoped>\n",
       "    .dataframe tbody tr th:only-of-type {\n",
       "        vertical-align: middle;\n",
       "    }\n",
       "\n",
       "    .dataframe tbody tr th {\n",
       "        vertical-align: top;\n",
       "    }\n",
       "\n",
       "    .dataframe thead th {\n",
       "        text-align: right;\n",
       "    }\n",
       "</style>\n",
       "<table border=\"1\" class=\"dataframe\">\n",
       "  <thead>\n",
       "    <tr style=\"text-align: right;\">\n",
       "      <th></th>\n",
       "      <th>Algorithm</th>\n",
       "      <th>Train Size</th>\n",
       "      <th>Accuracy</th>\n",
       "      <th>Balanced Accuracy</th>\n",
       "      <th>Precision</th>\n",
       "      <th>Recall</th>\n",
       "      <th>F1-Score</th>\n",
       "    </tr>\n",
       "  </thead>\n",
       "  <tbody>\n",
       "    <tr>\n",
       "      <th>0</th>\n",
       "      <td>SVC</td>\n",
       "      <td>0.1</td>\n",
       "      <td>0.877193</td>\n",
       "      <td>0.875362</td>\n",
       "      <td>0.910448</td>\n",
       "      <td>0.884058</td>\n",
       "      <td>0.897059</td>\n",
       "    </tr>\n",
       "    <tr>\n",
       "      <th>1</th>\n",
       "      <td>SVC</td>\n",
       "      <td>0.3</td>\n",
       "      <td>0.912281</td>\n",
       "      <td>0.920815</td>\n",
       "      <td>0.970149</td>\n",
       "      <td>0.890411</td>\n",
       "      <td>0.928571</td>\n",
       "    </tr>\n",
       "    <tr>\n",
       "      <th>2</th>\n",
       "      <td>SVC</td>\n",
       "      <td>0.5</td>\n",
       "      <td>0.947368</td>\n",
       "      <td>0.948792</td>\n",
       "      <td>0.970149</td>\n",
       "      <td>0.942029</td>\n",
       "      <td>0.955882</td>\n",
       "    </tr>\n",
       "    <tr>\n",
       "      <th>3</th>\n",
       "      <td>SVC</td>\n",
       "      <td>1.0</td>\n",
       "      <td>0.964912</td>\n",
       "      <td>0.967150</td>\n",
       "      <td>0.985075</td>\n",
       "      <td>0.956522</td>\n",
       "      <td>0.970588</td>\n",
       "    </tr>\n",
       "    <tr>\n",
       "      <th>4</th>\n",
       "      <td>Decision Tree</td>\n",
       "      <td>0.1</td>\n",
       "      <td>0.894737</td>\n",
       "      <td>0.890504</td>\n",
       "      <td>0.865672</td>\n",
       "      <td>0.950820</td>\n",
       "      <td>0.906250</td>\n",
       "    </tr>\n",
       "    <tr>\n",
       "      <th>5</th>\n",
       "      <td>Decision Tree</td>\n",
       "      <td>0.3</td>\n",
       "      <td>0.894737</td>\n",
       "      <td>0.890110</td>\n",
       "      <td>0.895522</td>\n",
       "      <td>0.923077</td>\n",
       "      <td>0.909091</td>\n",
       "    </tr>\n",
       "    <tr>\n",
       "      <th>6</th>\n",
       "      <td>Decision Tree</td>\n",
       "      <td>0.5</td>\n",
       "      <td>0.903509</td>\n",
       "      <td>0.898883</td>\n",
       "      <td>0.880597</td>\n",
       "      <td>0.951613</td>\n",
       "      <td>0.914729</td>\n",
       "    </tr>\n",
       "    <tr>\n",
       "      <th>7</th>\n",
       "      <td>Decision Tree</td>\n",
       "      <td>1.0</td>\n",
       "      <td>0.929825</td>\n",
       "      <td>0.934491</td>\n",
       "      <td>0.970149</td>\n",
       "      <td>0.915493</td>\n",
       "      <td>0.942029</td>\n",
       "    </tr>\n",
       "    <tr>\n",
       "      <th>8</th>\n",
       "      <td>Random Forest</td>\n",
       "      <td>0.1</td>\n",
       "      <td>0.903509</td>\n",
       "      <td>0.921053</td>\n",
       "      <td>0.985075</td>\n",
       "      <td>0.868421</td>\n",
       "      <td>0.923077</td>\n",
       "    </tr>\n",
       "    <tr>\n",
       "      <th>9</th>\n",
       "      <td>Random Forest</td>\n",
       "      <td>0.3</td>\n",
       "      <td>0.938596</td>\n",
       "      <td>0.941558</td>\n",
       "      <td>0.970149</td>\n",
       "      <td>0.928571</td>\n",
       "      <td>0.948905</td>\n",
       "    </tr>\n",
       "    <tr>\n",
       "      <th>10</th>\n",
       "      <td>Random Forest</td>\n",
       "      <td>0.5</td>\n",
       "      <td>0.938596</td>\n",
       "      <td>0.946429</td>\n",
       "      <td>0.985075</td>\n",
       "      <td>0.916667</td>\n",
       "      <td>0.949640</td>\n",
       "    </tr>\n",
       "    <tr>\n",
       "      <th>11</th>\n",
       "      <td>Random Forest</td>\n",
       "      <td>1.0</td>\n",
       "      <td>0.929825</td>\n",
       "      <td>0.934491</td>\n",
       "      <td>0.970149</td>\n",
       "      <td>0.915493</td>\n",
       "      <td>0.942029</td>\n",
       "    </tr>\n",
       "  </tbody>\n",
       "</table>\n",
       "</div>"
      ],
      "text/plain": [
       "        Algorithm  Train Size  Accuracy  Balanced Accuracy  Precision  \\\n",
       "0             SVC         0.1  0.877193           0.875362   0.910448   \n",
       "1             SVC         0.3  0.912281           0.920815   0.970149   \n",
       "2             SVC         0.5  0.947368           0.948792   0.970149   \n",
       "3             SVC         1.0  0.964912           0.967150   0.985075   \n",
       "4   Decision Tree         0.1  0.894737           0.890504   0.865672   \n",
       "5   Decision Tree         0.3  0.894737           0.890110   0.895522   \n",
       "6   Decision Tree         0.5  0.903509           0.898883   0.880597   \n",
       "7   Decision Tree         1.0  0.929825           0.934491   0.970149   \n",
       "8   Random Forest         0.1  0.903509           0.921053   0.985075   \n",
       "9   Random Forest         0.3  0.938596           0.941558   0.970149   \n",
       "10  Random Forest         0.5  0.938596           0.946429   0.985075   \n",
       "11  Random Forest         1.0  0.929825           0.934491   0.970149   \n",
       "\n",
       "      Recall  F1-Score  \n",
       "0   0.884058  0.897059  \n",
       "1   0.890411  0.928571  \n",
       "2   0.942029  0.955882  \n",
       "3   0.956522  0.970588  \n",
       "4   0.950820  0.906250  \n",
       "5   0.923077  0.909091  \n",
       "6   0.951613  0.914729  \n",
       "7   0.915493  0.942029  \n",
       "8   0.868421  0.923077  \n",
       "9   0.928571  0.948905  \n",
       "10  0.916667  0.949640  \n",
       "11  0.915493  0.942029  "
      ]
     },
     "execution_count": 193,
     "metadata": {},
     "output_type": "execute_result"
    }
   ],
   "source": [
    "df = pd.DataFrame(data, columns = columns)\n",
    "df"
   ]
  },
  {
   "cell_type": "code",
   "execution_count": 248,
   "metadata": {},
   "outputs": [
    {
     "name": "stderr",
     "output_type": "stream",
     "text": [
      "C:\\Users\\Anna\\AppData\\Local\\Temp\\ipykernel_1908\\84649920.py:5: FutureWarning: In a future version of pandas all arguments of DataFrame.pivot will be keyword-only.\n"
     ]
    },
    {
     "data": {
      "text/plain": [
       "Text(0, 0.5, 'F1-Score')"
      ]
     },
     "execution_count": 248,
     "metadata": {},
     "output_type": "execute_result"
    },
    {
     "data": {
      "image/png": "[encoded data removed]",
      "text/plain": [
       "<Figure size 640x480 with 1 Axes>"
      ]
     },
     "metadata": {},
     "output_type": "display_data"
    }
   ],
   "source": [
    "# The block of code thet plots the results (in terms of F1-Scores).\n",
    "\n",
    "df.apply(pd.to_numeric, errors='ignore')\n",
    "df['Train Size'] = df['Train Size'].astype('category')\n",
    "df.pivot(\"Algorithm\", \"Train Size\", \"F1-Score\").plot(kind='bar')\n",
    "plt.legend(title = 'Train Size', bbox_to_anchor=(1.04, 1), borderaxespad=0)\n",
    "plt.ylabel(\"F1-Score\")"
   ]
  },
  {
   "attachments": {},
   "cell_type": "markdown",
   "metadata": {},
   "source": [
    "We decided to plot the performance of the best models for each algorithm in terms of their F1-Score. We plotted the scores per algorithm and per train size.\n",
    "\n",
    "It is important to note that F1-scores are all close to 0.9 across the algorithms and across the test sizes. These scores are pretty high due to the fact that per each testing size, the best model was chosen. \n",
    "\n",
    "However, in the case of SVC and the Decision Tree, the F1-Score increases as the test size increases. This is to be expected because the more training data the model has, the best it will perform during the testing phase. \n",
    "\n",
    "A similar trend can be observed if we plot other statistics, including Accuracy, Balanced Accuracy, Precision, and Recall: the higher the training size, the higher the score of the observed performance statistics. "
   ]
  }
 ],
 "metadata": {
  "kernelspec": {
   "display_name": "Python 3",
   "language": "python",
   "name": "python3"
  },
  "language_info": {
   "codemirror_mode": {
    "name": "ipython",
    "version": 3
   },
   "file_extension": ".py",
   "mimetype": "text/x-python",
   "name": "python",
   "nbconvert_exporter": "python",
   "pygments_lexer": "ipython3",
   "version": "3.10.9"
  },
  "orig_nbformat": 4,
  "vscode": {
   "interpreter": {
    "hash": "b9d3dd79ab22a3d6119704dc86b43caced426a1a8d843b61aae71edd81aee1bb"
   }
  }
 },
 "nbformat": 4,
 "nbformat_minor": 2
}
